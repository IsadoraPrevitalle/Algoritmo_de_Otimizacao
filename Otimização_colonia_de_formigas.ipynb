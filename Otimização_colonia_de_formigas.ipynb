{
  "nbformat": 4,
  "nbformat_minor": 0,
  "metadata": {
    "colab": {
      "provenance": [],
      "include_colab_link": true
    },
    "kernelspec": {
      "name": "python3",
      "display_name": "Python 3"
    },
    "language_info": {
      "name": "python"
    }
  },
  "cells": [
    {
      "cell_type": "markdown",
      "metadata": {
        "id": "view-in-github",
        "colab_type": "text"
      },
      "source": [
        "<a href=\"https://colab.research.google.com/github/IsadoraPrevitalle/Algoritmo_de_Otimizacao/blob/main/Otimiza%C3%A7%C3%A3o_colonia_de_formigas.ipynb\" target=\"_parent\"><img src=\"https://colab.research.google.com/assets/colab-badge.svg\" alt=\"Open In Colab\"/></a>"
      ]
    },
    {
      "cell_type": "markdown",
      "metadata": {
        "id": "dvmxaw69_jKV"
      },
      "source": [
        "\n",
        "# **Otimização por Colônia de Formigas**\n",
        "> A Otimização por Colônia de Formigas, *Ant Colony Optimization* - ACO, é uma técnica inspirada na busca por fonte de alimento realizada por colônias de formigas, a qual é aplicada a problemas discretos de otimização.\n",
        "\n",
        "> A metáfora central da ACO reside no mecanismo de comunicação indireta através de sinais químicos (feromônios), empregado por muitas espécies de formigas sociais, na busca por fontes de alimentos. As formigas buscam aleatoriamente por fontes de alimento próximas aos seus ninhos, sendo que a “força” da trilha de feromônio cresce rapidamente para fontes próximas e para trilhas mais curtas. As trilhas surgem ao longo do tempo, como uma memória coletiva, formando uma rota entre a colônia e a fonte de alimento (Figura 1).\n",
        "\n",
        "Figura 1. Depósito de feromônio entre o ninho (N) e a fonte de alimento (F)\n",
        "\n",
        "<img src=\"https://drive.google.com/uc?id=1oCFZzpApf-ctuWxZ_ZiqmcinVMr3UvDC\" width=\"500\">\n"
      ]
    },
    {
      "cell_type": "markdown",
      "metadata": {
        "id": "YJrqb9x3KtqW"
      },
      "source": [
        "#**Seleção e Formulação do Problema**\n",
        "> O primeiro passo para utilizar a ACO é mapear o problema selecionado para um grafo no qual a rota (trilha mais forte de feromônios) representa a solução do problema. A tarefa é encontrar um caminho ótimo através do grafo.\n",
        "\n",
        "> Dessa forma, nada mais natural do que escolher o clássico **Problema do Caixeiro Viajante**. O **Problema do Caixeiro Viajante**, ou *Travelling Salesman Problem*, reside no objetivo de encontrar a menor rota possível para visitar um conjunto de cidades, passando por cada uma delas uma única vez, e retornar à origem.\n",
        "* O espaço de estados para esse problema pode ser representado por um grafo completamente conexo. Os vértices são as cidades e as arestas representam vias entre cidades, havendo uma distância (custo) associada.\n",
        "* O trecho de código abaixo gera um grafo para o problema do caixeiro viajante.\n",
        "  * O usuário pode escolher o número de cidades;\n",
        "  * O grafo é gerado em uma matriz bidimensional, sendo as distâncias valores inteiros aleatórios no intervalo [10, 100].\n"
      ]
    },
    {
      "cell_type": "markdown",
      "source": [
        "#**Processamento da ACO**\n",
        "> A Figura 2 apresenta o pseudocódigo simplifica do algoritmo da ACO. Em cada iteração do algoritmo o feromônio em cada aresta, além de atualizado com o depósito, sofre evaporação.\n",
        "\n",
        "Figura 2. Pseudocódigo da ACO\n",
        "\n",
        "<img src=\"https://drive.google.com/uc?id=1gjVPxanOnvi4Pyge86hZzlJCgzzqbMG9\" width=\"700\">\n",
        "\n",
        ">No pacote ACO-Pants, esse processamento do algoritmo é transparente ao usuário."
      ],
      "metadata": {
        "id": "5GpiLjcvl0N3"
      }
    },
    {
      "cell_type": "code",
      "source": [
        "# Importando pacotes e módulos\n",
        "\n",
        "!pip install -q ACO-Pants # Instalação de ACO-Pants\n",
        "\n",
        "import pants\n",
        "import math\n",
        "import random\n",
        "import numpy"
      ],
      "metadata": {
        "colab": {
          "base_uri": "https://localhost:8080/"
        },
        "id": "IG44Xb0GV7zV",
        "outputId": "a848c007-1c36-41ee-c848-125130b18344"
      },
      "execution_count": null,
      "outputs": [
        {
          "output_type": "stream",
          "name": "stdout",
          "text": [
            "  Preparing metadata (setup.py) ... \u001b[?25l\u001b[?25hdone\n",
            "  Building wheel for ACO-Pants (setup.py) ... \u001b[?25l\u001b[?25hdone\n"
          ]
        }
      ]
    },
    {
      "cell_type": "code",
      "metadata": {
        "colab": {
          "base_uri": "https://localhost:8080/"
        },
        "id": "LSV2q3OGMWaO",
        "outputId": "a02ca1ce-6ecb-49b1-b88e-a8e7eaa441d7"
      },
      "source": [
        "# Geração do grafo para o problema do caixeiro\n",
        "\n",
        "#Função que recebe o numero de cidades de entrada do usuario, e os valores minimos e maximos da distancia como um parametro para criada de distancia aleatória\n",
        "def MatrizGrafo(Cidade, minDist, maxDist):\n",
        "  matriz_cidade = numpy.zeros((Cidade, Cidade), dtype = int)\n",
        "  for linha in range(Cidade):\n",
        "    for col in range(Cidade):\n",
        "      #diagonal principal não haverá valores\n",
        "      #se coluna for menor que linha é atribuido aos indices valores já gerados\n",
        "      #se não, é gerado um novo valor aleatório entre 10 e 100\n",
        "      if (col>linha):\n",
        "        matriz_cidade[linha, col] = random.randint(minDist, maxDist)\n",
        "      elif (col<linha):\n",
        "        matriz_cidade[linha, col] = matriz_cidade[col, linha]\n",
        "  return matriz_cidade\n",
        "\n",
        "\n",
        "Cidade = int(input('Digite o número de cidades: '))\n",
        "\n",
        "matriz_cidade = MatrizGrafo(Cidade, 10, 100)\n",
        "\n",
        "print('cidades:')\n",
        "print(matriz_cidade)\n",
        "\n",
        "def dist(cid1, cid2):\n",
        "  return matriz_cidade[cid1][cid2]\n",
        "\n",
        "#Quantidade de cidade será a quantidade de nós\n",
        "nos = list(range(Cidade))\n",
        "\n",
        "#Cria a distancia de cada cidade até outra através do nó\n",
        "world = pants.World(nos, dist)\n",
        "\n",
        "# Solver possui os parametros de alpha, distancia, aresta e padrões de evaporação dos feromenos\n",
        "solver = pants.Solver()\n",
        "\n",
        "# Busca pela melhor solução (Processamento do Algoritmo)\n",
        "solution = solver.solve(world)\n",
        "print('\\n\\nCaminho:', solution.tour)    # Nós visitados\n",
        "print('Custo Total:', solution.distance) # Custo do melhor caminho encontrado"
      ],
      "execution_count": null,
      "outputs": [
        {
          "output_type": "stream",
          "name": "stdout",
          "text": [
            "Digite o número de cidades: 5\n",
            "cidades:\n",
            "[[ 0 94 56 71 14]\n",
            " [94  0 51 75 19]\n",
            " [56 51  0 32 38]\n",
            " [71 75 32  0 88]\n",
            " [14 19 38 88  0]]\n",
            "\n",
            "\n",
            "Caminho: [0, 4, 1, 2, 3]\n",
            "Custo Total: 187\n"
          ]
        }
      ]
    }
  ]
}